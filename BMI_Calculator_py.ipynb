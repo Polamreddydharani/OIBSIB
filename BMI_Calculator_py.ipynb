{
  "nbformat": 4,
  "nbformat_minor": 0,
  "metadata": {
    "colab": {
      "provenance": [],
      "authorship_tag": "ABX9TyPaHQjPmeteenQJc0uM/Dp2",
      "include_colab_link": true
    },
    "kernelspec": {
      "name": "python3",
      "display_name": "Python 3"
    },
    "language_info": {
      "name": "python"
    }
  },
  "cells": [
    {
      "cell_type": "markdown",
      "metadata": {
        "id": "view-in-github",
        "colab_type": "text"
      },
      "source": [
        "<a href=\"https://colab.research.google.com/github/Polamreddydharani/OIBSIB/blob/main/BMI_Calculator_py.ipynb\" target=\"_parent\"><img src=\"https://colab.research.google.com/assets/colab-badge.svg\" alt=\"Open In Colab\"/></a>"
      ]
    },
    {
      "cell_type": "code",
      "execution_count": null,
      "metadata": {
        "id": "xNGvgEsLuZJU",
        "colab": {
          "base_uri": "https://localhost:8080/"
        },
        "outputId": "7ed5b62f-15f1-423f-93a6-8ae41e5d6daa"
      },
      "outputs": [
        {
          "output_type": "stream",
          "name": "stdout",
          "text": [
            "Enter the weight in kilograms :67\n",
            "Enter the height in meters :1000000\n",
            "your BMI is0.00and you are severely underweight.\n"
          ]
        }
      ],
      "source": [
        "#To calculate the BMI using the weight(kilograms) & height(meters)\n",
        "weight = float(input(\"Enter the weight in kilograms :\"))\n",
        "height = float(input(\"Enter the height in meters :\"))\n",
        "def BMI(weight,height):\n",
        "  #formula to calculate the BMI is:weight/(height**2)\n",
        "  bmi = weight/(height**2)\n",
        "#Categorize the BMI into health categories based on predefined ranges.\n",
        "  if(bmi<16):\n",
        "   return'severely underweight',bmi\n",
        "  elif(bmi>=16 and bmi<18.5):\n",
        "   return'underweight',bmi\n",
        "  elif(bmi>=18.5 and bmi<25):\n",
        "   return'normal',bmi\n",
        "  elif(bmi>=25 and bmi<30):\n",
        "   return'overweight',bmi\n",
        "  else:\n",
        "   return'obese',bmi\n",
        "bmi_category,bmi_value = BMI(weight,height)\n",
        "print(\"your BMI is{:.2f}and you are {}.\".format(bmi_value,bmi_category))\n",
        "\n"
      ]
    }
  ]
}