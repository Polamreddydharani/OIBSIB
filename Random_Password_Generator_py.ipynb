{
  "nbformat": 4,
  "nbformat_minor": 0,
  "metadata": {
    "colab": {
      "provenance": []
    },
    "kernelspec": {
      "name": "python3",
      "display_name": "Python 3"
    },
    "language_info": {
      "name": "python"
    }
  },
  "cells": [
    {
      "cell_type": "code",
      "source": [
        "# To generate Random password\n",
        "#import the modules\n",
        "import string\n",
        "import random\n",
        "#input the length of password\n",
        "length = int(input(\"Enter the length of the password:\"))\n",
        "#Define the data\n",
        "lower = string.ascii_lowercase\n",
        "upper = string.ascii_uppercase\n",
        "num =string.digits\n",
        "symbols = string.punctuation\n",
        "#combine all the data given above\n",
        "all_chars = lower+upper+num+symbols\n",
        "#Ensure at least one character from each category\n",
        "import random\n",
        "import string\n",
        "\n",
        "# Generate password\n",
        "password = random.choice(string.ascii_lowercase) + random.choice(string.ascii_uppercase) + random.choice(string.digits) + random.choice(string.punctuation)\n",
        "# Generate remaining characters\n",
        "password += ''.join(random.choice(string.ascii_letters + string.digits + string.punctuation) for _ in range(length - 4))\n",
        "# Shuffle the password\n",
        "password_list = list(password)\n",
        "random.shuffle(password_list)\n",
        "password=''.join(password_list)\n",
        "#print password\n",
        "print(\"Generated password:\",password)"
      ],
      "metadata": {
        "id": "Fwt6tN-5EmJa",
        "colab": {
          "base_uri": "https://localhost:8080/"
        },
        "outputId": "0ab7a812-ecc5-4e6f-c3da-1fd499e79cac"
      },
      "execution_count": null,
      "outputs": [
        {
          "output_type": "stream",
          "name": "stdout",
          "text": [
            "Enter the length of the password:7\n",
            "Generated password: n:NbB8?\n"
          ]
        }
      ]
    }
  ]
}