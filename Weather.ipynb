{
  "nbformat": 4,
  "nbformat_minor": 0,
  "metadata": {
    "colab": {
      "provenance": [],
      "authorship_tag": "ABX9TyNJ1QGA42pPI5o+rsXONS5m",
      "include_colab_link": true
    },
    "kernelspec": {
      "name": "python3",
      "display_name": "Python 3"
    },
    "language_info": {
      "name": "python"
    }
  },
  "cells": [
    {
      "cell_type": "markdown",
      "metadata": {
        "id": "view-in-github",
        "colab_type": "text"
      },
      "source": [
        "<a href=\"https://colab.research.google.com/github/Polamreddydharani/OIBSIB/blob/main/Weather.ipynb\" target=\"_parent\"><img src=\"https://colab.research.google.com/assets/colab-badge.svg\" alt=\"Open In Colab\"/></a>"
      ]
    },
    {
      "cell_type": "code",
      "source": [
        "import requests\n",
        "\n",
        "def get_weather_data(location):\n",
        "    # API Key for OpenWeatherMap (replace 'YOUR_API_KEY' with your actual API key)\n",
        "    api_key = '867ffdcc2ca2448d73e94b87f2eb6fc9'\n",
        "\n",
        "    # API endpoint for current weather data\n",
        "    url = f'http://api.openweathermap.org/data/2.5/weather?q={location}&appid={api_key}&units=metric'\n",
        "\n",
        "    # Send GET request to the API\n",
        "    response = requests.get(url)\n",
        "\n",
        "    # Check if request was successful\n",
        "    if response.status_code == 200:\n",
        "        # Parse JSON data\n",
        "        data = response.json()\n",
        "        # Extract relevant weather information\n",
        "        weather_info = {\n",
        "            'temperature': data['main']['temp'],\n",
        "            'humidity': data['main']['humidity'],\n",
        "            'description': data['weather'][0]['description']\n",
        "        }\n",
        "        return weather_info\n",
        "    else:\n",
        "        print(\"Error: Failed to fetch weather data.\")\n",
        "        return None\n",
        "\n",
        "def main():\n",
        "    # Prompt user for location\n",
        "    location = input(\"Enter city name or ZIP code: \")\n",
        "\n",
        "    # Get weather data for the specified location\n",
        "    weather_data = get_weather_data(location)\n",
        "\n",
        "    # Display weather data\n",
        "    if weather_data:\n",
        "        print(f\"Weather in {location}:\")\n",
        "        print(f\"Temperature: {weather_data['temperature']}°C\")\n",
        "        print(f\"Humidity: {weather_data['humidity']}%\")\n",
        "        print(f\"Weather Description: {weather_data['description']}\")\n",
        "    else:\n",
        "        print(\"Weather data not available.\")\n",
        "\n",
        "if __name__ == \"__main__\":\n",
        "    main()\n"
      ],
      "metadata": {
        "colab": {
          "base_uri": "https://localhost:8080/"
        },
        "id": "IS904AqUKqPG",
        "outputId": "b3d4c6d1-9355-401c-b18a-c91423f3e1cf"
      },
      "execution_count": 17,
      "outputs": [
        {
          "output_type": "stream",
          "name": "stdout",
          "text": [
            "Enter city name or ZIP code: tirupati\n",
            "Error: Failed to fetch weather data.\n",
            "Weather data not available.\n"
          ]
        }
      ]
    }
  ]
}